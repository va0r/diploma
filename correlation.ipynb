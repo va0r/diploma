{
 "cells": [
  {
   "cell_type": "code",
   "execution_count": 100,
   "id": "initial_id",
   "metadata": {
    "collapsed": true,
    "ExecuteTime": {
     "end_time": "2024-02-13T09:08:06.487899404Z",
     "start_time": "2024-02-13T09:08:06.480510223Z"
    }
   },
   "outputs": [],
   "source": [
    "import numpy as np\n",
    "import pandas as pd \n",
    "\n",
    "pd.options.display.max_columns = None\n",
    "pd.options.display.width = None\n",
    "pd.set_option('display.max_rows', 50)"
   ]
  },
  {
   "cell_type": "code",
   "outputs": [
    {
     "name": "stdout",
     "output_type": "stream",
     "text": [
      "Downloading bitcoin.csv to data\r\n",
      "100%|█████████████████████████████████████████| 277k/277k [00:00<00:00, 645kB/s]\r\n",
      "100%|█████████████████████████████████████████| 277k/277k [00:00<00:00, 643kB/s]\r\n",
      "Downloading ethereum.csv to data\r\n",
      "100%|█████████████████████████████████████████| 268k/268k [00:00<00:00, 635kB/s]\r\n",
      "100%|█████████████████████████████████████████| 268k/268k [00:00<00:00, 634kB/s]\r\n"
     ]
    }
   ],
   "source": [
    "!kaggle datasets download -d sudalairajkumar/cryptocurrency-historical-prices-coingecko -f bitcoin.csv --force -p data\n",
    "!kaggle datasets download -d sudalairajkumar/cryptocurrency-historical-prices-coingecko -f ethereum.csv --force -p data"
   ],
   "metadata": {
    "collapsed": false,
    "ExecuteTime": {
     "end_time": "2024-02-13T09:08:11.547094226Z",
     "start_time": "2024-02-13T09:08:06.496083740Z"
    }
   },
   "id": "439b77eacbabb1a",
   "execution_count": 101
  },
  {
   "cell_type": "code",
   "outputs": [
    {
     "data": {
      "text/plain": "                         price_bitcoin  price_ethereum\n2015-08-07 00:00:00.000     278.508814        2.831620\n2015-08-08 00:00:00.000     259.800728        1.330750\n2015-08-10 00:00:00.000     263.578200        0.687586\n2015-08-11 00:00:00.000     269.866800        1.067379\n2015-08-12 00:00:00.000     267.712600        1.256613\n...                                ...             ...\n2024-02-09 00:00:00.000   45338.271190     2420.968561\n2024-02-10 00:00:00.000   47143.242991     2487.850897\n2024-02-11 00:00:00.000   47768.995251     2499.492184\n2024-02-12 00:00:00.000   48189.881793     2505.076808\n2024-02-13 00:00:00.000   50050.136095     2657.990408\n\n[3108 rows x 2 columns]",
      "text/html": "<div>\n<style scoped>\n    .dataframe tbody tr th:only-of-type {\n        vertical-align: middle;\n    }\n\n    .dataframe tbody tr th {\n        vertical-align: top;\n    }\n\n    .dataframe thead th {\n        text-align: right;\n    }\n</style>\n<table border=\"1\" class=\"dataframe\">\n  <thead>\n    <tr style=\"text-align: right;\">\n      <th></th>\n      <th>price_bitcoin</th>\n      <th>price_ethereum</th>\n    </tr>\n  </thead>\n  <tbody>\n    <tr>\n      <th>2015-08-07 00:00:00.000</th>\n      <td>278.508814</td>\n      <td>2.831620</td>\n    </tr>\n    <tr>\n      <th>2015-08-08 00:00:00.000</th>\n      <td>259.800728</td>\n      <td>1.330750</td>\n    </tr>\n    <tr>\n      <th>2015-08-10 00:00:00.000</th>\n      <td>263.578200</td>\n      <td>0.687586</td>\n    </tr>\n    <tr>\n      <th>2015-08-11 00:00:00.000</th>\n      <td>269.866800</td>\n      <td>1.067379</td>\n    </tr>\n    <tr>\n      <th>2015-08-12 00:00:00.000</th>\n      <td>267.712600</td>\n      <td>1.256613</td>\n    </tr>\n    <tr>\n      <th>...</th>\n      <td>...</td>\n      <td>...</td>\n    </tr>\n    <tr>\n      <th>2024-02-09 00:00:00.000</th>\n      <td>45338.271190</td>\n      <td>2420.968561</td>\n    </tr>\n    <tr>\n      <th>2024-02-10 00:00:00.000</th>\n      <td>47143.242991</td>\n      <td>2487.850897</td>\n    </tr>\n    <tr>\n      <th>2024-02-11 00:00:00.000</th>\n      <td>47768.995251</td>\n      <td>2499.492184</td>\n    </tr>\n    <tr>\n      <th>2024-02-12 00:00:00.000</th>\n      <td>48189.881793</td>\n      <td>2505.076808</td>\n    </tr>\n    <tr>\n      <th>2024-02-13 00:00:00.000</th>\n      <td>50050.136095</td>\n      <td>2657.990408</td>\n    </tr>\n  </tbody>\n</table>\n<p>3108 rows × 2 columns</p>\n</div>"
     },
     "execution_count": 102,
     "metadata": {},
     "output_type": "execute_result"
    }
   ],
   "source": [
    "shares = [\"bitcoin\", \"ethereum\"]\n",
    "tickers_str = ', '.join(shares)\n",
    "all_dfs = pd.DataFrame()\n",
    "\n",
    "for ticker in shares:\n",
    "    df = pd.read_csv(f\"data/{ticker}.csv\", index_col=[\"date\"])\n",
    "    df = df.add_suffix(f'_{ticker}')\n",
    "    all_dfs = pd.concat([all_dfs, df[f'price_{ticker}']], axis=1).dropna()\n",
    "all_dfs.sort_index(axis=0)"
   ],
   "metadata": {
    "collapsed": false,
    "ExecuteTime": {
     "end_time": "2024-02-13T09:08:11.625656602Z",
     "start_time": "2024-02-13T09:08:11.555117576Z"
    }
   },
   "id": "d8a516d450897b74",
   "execution_count": 102
  },
  {
   "cell_type": "code",
   "outputs": [],
   "source": [
    "btc = x = np.array(list(all_dfs['price_bitcoin'])).reshape((-1, 1))  # независимая переменная, предсказание\n",
    "eth = y = np.array(list(all_dfs['price_ethereum']))  # зависимая переменная, ответ"
   ],
   "metadata": {
    "collapsed": false,
    "ExecuteTime": {
     "end_time": "2024-02-13T09:08:11.626633697Z",
     "start_time": "2024-02-13T09:08:11.602634888Z"
    }
   },
   "id": "60f04e2af13bc6a8",
   "execution_count": 103
  },
  {
   "cell_type": "code",
   "outputs": [
    {
     "data": {
      "text/plain": "94.17748406839648"
     },
     "execution_count": 104,
     "metadata": {},
     "output_type": "execute_result"
    }
   ],
   "source": [
    "100*all_dfs['price_bitcoin'].corr(all_dfs['price_ethereum'])"
   ],
   "metadata": {
    "collapsed": false,
    "ExecuteTime": {
     "end_time": "2024-02-13T09:08:11.716912336Z",
     "start_time": "2024-02-13T09:08:11.605194680Z"
    }
   },
   "id": "c7c678b5dca3d0aa",
   "execution_count": 104
  },
  {
   "cell_type": "code",
   "outputs": [],
   "source": [
    "from sklearn.linear_model import LinearRegression"
   ],
   "metadata": {
    "collapsed": false,
    "ExecuteTime": {
     "end_time": "2024-02-13T09:08:11.717220131Z",
     "start_time": "2024-02-13T09:08:11.611479793Z"
    }
   },
   "id": "4e2eed64a5520577",
   "execution_count": 105
  },
  {
   "cell_type": "code",
   "outputs": [],
   "source": [
    "model = LinearRegression().fit(x, y)"
   ],
   "metadata": {
    "collapsed": false,
    "ExecuteTime": {
     "end_time": "2024-02-13T09:08:11.717889989Z",
     "start_time": "2024-02-13T09:08:11.654780233Z"
    }
   },
   "id": "66494acb88625210",
   "execution_count": 106
  },
  {
   "cell_type": "code",
   "outputs": [
    {
     "name": "stdout",
     "output_type": "stream",
     "text": [
      "coefficient of determination R^2: 0.8869398505453068\n",
      "intercept: -85.72707862678988\n",
      "coef: 0.06250335530270418\n"
     ]
    }
   ],
   "source": [
    "print('coefficient of determination R^2:', model.score(x, y))\n",
    "print('intercept:', model.intercept_)\n",
    "print('coef:', model.coef_[0])"
   ],
   "metadata": {
    "collapsed": false,
    "ExecuteTime": {
     "end_time": "2024-02-13T09:08:11.718793330Z",
     "start_time": "2024-02-13T09:08:11.655087540Z"
    }
   },
   "id": "dbd7536b34684552",
   "execution_count": 107
  },
  {
   "cell_type": "code",
   "outputs": [],
   "source": [
    "x_new = np.array([43000, 44000, 45000, 50000]).reshape((-1, 1))\n",
    "y_new = model.predict(x_new).round(2)"
   ],
   "metadata": {
    "collapsed": false,
    "ExecuteTime": {
     "end_time": "2024-02-13T09:08:11.719531634Z",
     "start_time": "2024-02-13T09:08:11.655323607Z"
    }
   },
   "id": "b31c558c3b17db8f",
   "execution_count": 108
  },
  {
   "cell_type": "code",
   "outputs": [
    {
     "name": "stdout",
     "output_type": "stream",
     "text": [
      "predicted response:\n",
      "2601.92\n",
      "2664.42\n",
      "2726.92\n",
      "3039.44\n"
     ]
    }
   ],
   "source": [
    "print(f'predicted response:', *y_new, sep='\\n')"
   ],
   "metadata": {
    "collapsed": false,
    "ExecuteTime": {
     "end_time": "2024-02-13T09:08:11.720460258Z",
     "start_time": "2024-02-13T09:08:11.655470346Z"
    }
   },
   "id": "509ba34ec45c17cc",
   "execution_count": 109
  },
  {
   "cell_type": "code",
   "outputs": [
    {
     "data": {
      "text/plain": "                         price_bitcoin  price_ethereum  price_ethereum_clear\n2015-08-07 00:00:00.000     278.508814        2.831620            -68.319343\n2015-08-08 00:00:00.000     259.800728        1.330750            -69.488661\n2015-08-10 00:00:00.000     263.578200        0.687586            -69.252557\n2015-08-11 00:00:00.000     269.866800        1.067379            -68.859498\n2015-08-12 00:00:00.000     267.712600        1.256613            -68.994143\n...                                ...             ...                   ...\n2024-02-09 00:00:00.000   45338.271190     2420.968561           2748.066994\n2024-02-10 00:00:00.000   47143.242991     2487.850897           2860.883788\n2024-02-11 00:00:00.000   47768.995251     2499.492184           2899.995404\n2024-02-12 00:00:00.000   48189.881793     2505.076808           2926.302225\n2024-02-13 00:00:00.000   50050.136095     2657.990408           3042.574361\n\n[3108 rows x 3 columns]",
      "text/html": "<div>\n<style scoped>\n    .dataframe tbody tr th:only-of-type {\n        vertical-align: middle;\n    }\n\n    .dataframe tbody tr th {\n        vertical-align: top;\n    }\n\n    .dataframe thead th {\n        text-align: right;\n    }\n</style>\n<table border=\"1\" class=\"dataframe\">\n  <thead>\n    <tr style=\"text-align: right;\">\n      <th></th>\n      <th>price_bitcoin</th>\n      <th>price_ethereum</th>\n      <th>price_ethereum_clear</th>\n    </tr>\n  </thead>\n  <tbody>\n    <tr>\n      <th>2015-08-07 00:00:00.000</th>\n      <td>278.508814</td>\n      <td>2.831620</td>\n      <td>-68.319343</td>\n    </tr>\n    <tr>\n      <th>2015-08-08 00:00:00.000</th>\n      <td>259.800728</td>\n      <td>1.330750</td>\n      <td>-69.488661</td>\n    </tr>\n    <tr>\n      <th>2015-08-10 00:00:00.000</th>\n      <td>263.578200</td>\n      <td>0.687586</td>\n      <td>-69.252557</td>\n    </tr>\n    <tr>\n      <th>2015-08-11 00:00:00.000</th>\n      <td>269.866800</td>\n      <td>1.067379</td>\n      <td>-68.859498</td>\n    </tr>\n    <tr>\n      <th>2015-08-12 00:00:00.000</th>\n      <td>267.712600</td>\n      <td>1.256613</td>\n      <td>-68.994143</td>\n    </tr>\n    <tr>\n      <th>...</th>\n      <td>...</td>\n      <td>...</td>\n      <td>...</td>\n    </tr>\n    <tr>\n      <th>2024-02-09 00:00:00.000</th>\n      <td>45338.271190</td>\n      <td>2420.968561</td>\n      <td>2748.066994</td>\n    </tr>\n    <tr>\n      <th>2024-02-10 00:00:00.000</th>\n      <td>47143.242991</td>\n      <td>2487.850897</td>\n      <td>2860.883788</td>\n    </tr>\n    <tr>\n      <th>2024-02-11 00:00:00.000</th>\n      <td>47768.995251</td>\n      <td>2499.492184</td>\n      <td>2899.995404</td>\n    </tr>\n    <tr>\n      <th>2024-02-12 00:00:00.000</th>\n      <td>48189.881793</td>\n      <td>2505.076808</td>\n      <td>2926.302225</td>\n    </tr>\n    <tr>\n      <th>2024-02-13 00:00:00.000</th>\n      <td>50050.136095</td>\n      <td>2657.990408</td>\n      <td>3042.574361</td>\n    </tr>\n  </tbody>\n</table>\n<p>3108 rows × 3 columns</p>\n</div>"
     },
     "execution_count": 110,
     "metadata": {},
     "output_type": "execute_result"
    }
   ],
   "source": [
    "all_dfs['price_ethereum_clear'] = model.intercept_ + model.coef_[0] * all_dfs['price_bitcoin']\n",
    "all_dfs"
   ],
   "metadata": {
    "collapsed": false,
    "ExecuteTime": {
     "end_time": "2024-02-13T09:08:11.721966198Z",
     "start_time": "2024-02-13T09:08:11.655606608Z"
    }
   },
   "id": "c8f8aa68223b8fda",
   "execution_count": 110
  },
  {
   "cell_type": "code",
   "outputs": [],
   "source": [],
   "metadata": {
    "collapsed": false,
    "ExecuteTime": {
     "end_time": "2024-02-13T09:08:11.766406676Z",
     "start_time": "2024-02-13T09:08:11.661718931Z"
    }
   },
   "id": "b1aa0a9a2b018ccb",
   "execution_count": 110
  }
 ],
 "metadata": {
  "kernelspec": {
   "display_name": "Python 3",
   "language": "python",
   "name": "python3"
  },
  "language_info": {
   "codemirror_mode": {
    "name": "ipython",
    "version": 2
   },
   "file_extension": ".py",
   "mimetype": "text/x-python",
   "name": "python",
   "nbconvert_exporter": "python",
   "pygments_lexer": "ipython2",
   "version": "2.7.6"
  }
 },
 "nbformat": 4,
 "nbformat_minor": 5
}
